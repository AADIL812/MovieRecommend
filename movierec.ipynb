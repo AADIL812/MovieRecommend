{
 "cells": [
  {
   "cell_type": "code",
   "execution_count": 1,
   "metadata": {},
   "outputs": [
    {
     "name": "stdout",
     "output_type": "stream",
     "text": [
      "[1, 2, 5]\n"
     ]
    }
   ],
   "source": [
    "a=[1,2,5]\n",
    "print(a)"
   ]
  },
  {
   "cell_type": "code",
   "execution_count": 6,
   "metadata": {},
   "outputs": [
    {
     "name": "stdout",
     "output_type": "stream",
     "text": [
      "      movie_id                                     title  \\\n",
      "0        19995                                    Avatar   \n",
      "1          285  Pirates of the Caribbean: At World's End   \n",
      "2       206647                                   Spectre   \n",
      "3        49026                     The Dark Knight Rises   \n",
      "4        49529                               John Carter   \n",
      "...        ...                                       ...   \n",
      "4798      9367                               El Mariachi   \n",
      "4799     72766                                 Newlyweds   \n",
      "4800    231617                 Signed, Sealed, Delivered   \n",
      "4801    126186                          Shanghai Calling   \n",
      "4802     25975                         My Date with Drew   \n",
      "\n",
      "                                                   cast  \\\n",
      "0     [{\"cast_id\": 242, \"character\": \"Jake Sully\", \"...   \n",
      "1     [{\"cast_id\": 4, \"character\": \"Captain Jack Spa...   \n",
      "2     [{\"cast_id\": 1, \"character\": \"James Bond\", \"cr...   \n",
      "3     [{\"cast_id\": 2, \"character\": \"Bruce Wayne / Ba...   \n",
      "4     [{\"cast_id\": 5, \"character\": \"John Carter\", \"c...   \n",
      "...                                                 ...   \n",
      "4798  [{\"cast_id\": 1, \"character\": \"El Mariachi\", \"c...   \n",
      "4799  [{\"cast_id\": 1, \"character\": \"Buzzy\", \"credit_...   \n",
      "4800  [{\"cast_id\": 8, \"character\": \"Oliver O\\u2019To...   \n",
      "4801  [{\"cast_id\": 3, \"character\": \"Sam\", \"credit_id...   \n",
      "4802  [{\"cast_id\": 3, \"character\": \"Herself\", \"credi...   \n",
      "\n",
      "                                                   crew  \n",
      "0     [{\"credit_id\": \"52fe48009251416c750aca23\", \"de...  \n",
      "1     [{\"credit_id\": \"52fe4232c3a36847f800b579\", \"de...  \n",
      "2     [{\"credit_id\": \"54805967c3a36829b5002c41\", \"de...  \n",
      "3     [{\"credit_id\": \"52fe4781c3a36847f81398c3\", \"de...  \n",
      "4     [{\"credit_id\": \"52fe479ac3a36847f813eaa3\", \"de...  \n",
      "...                                                 ...  \n",
      "4798  [{\"credit_id\": \"52fe44eec3a36847f80b280b\", \"de...  \n",
      "4799  [{\"credit_id\": \"52fe487dc3a368484e0fb013\", \"de...  \n",
      "4800  [{\"credit_id\": \"52fe4df3c3a36847f8275ecf\", \"de...  \n",
      "4801  [{\"credit_id\": \"52fe4ad9c3a368484e16a36b\", \"de...  \n",
      "4802  [{\"credit_id\": \"58ce021b9251415a390165d9\", \"de...  \n",
      "\n",
      "[4803 rows x 4 columns]\n"
     ]
    }
   ],
   "source": [
    "import pandas as pd\n",
    "\n",
    "df = pd.read_csv('moviedb.csv', encoding='latin-1')\n",
    "print(df)"
   ]
  },
  {
   "cell_type": "code",
   "execution_count": 7,
   "metadata": {},
   "outputs": [
    {
     "name": "stdout",
     "output_type": "stream",
     "text": [
      "DataFrame:\n",
      "      Name  Age Grade\n",
      "0    Alice   20     A\n",
      "1      Bob   22     B\n",
      "2  Charlie   21     A\n"
     ]
    }
   ],
   "source": [
    "import pandas as pd\n",
    "\n",
    "# Example: Create a DataFrame from a dictionary\n",
    "data = {\n",
    "    \"Name\": [\"Alice\", \"Bob\", \"Charlie\"],\n",
    "    \"Age\": [20, 22, 21],\n",
    "    \"Grade\": [\"A\", \"B\", \"A\"]\n",
    "}\n",
    "\n",
    "df = pd.DataFrame(data)\n",
    "print(\"DataFrame:\")\n",
    "print(df)\n",
    "\n"
   ]
  }
 ],
 "metadata": {
  "kernelspec": {
   "display_name": "Python 3",
   "language": "python",
   "name": "python3"
  },
  "language_info": {
   "codemirror_mode": {
    "name": "ipython",
    "version": 3
   },
   "file_extension": ".py",
   "mimetype": "text/x-python",
   "name": "python",
   "nbconvert_exporter": "python",
   "pygments_lexer": "ipython3",
   "version": "3.13.1"
  }
 },
 "nbformat": 4,
 "nbformat_minor": 2
}
